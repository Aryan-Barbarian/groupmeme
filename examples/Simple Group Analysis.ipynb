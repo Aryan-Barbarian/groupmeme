{
 "cells": [
  {
   "cell_type": "code",
   "execution_count": 1,
   "metadata": {
    "collapsed": false
   },
   "outputs": [],
   "source": [
    "import sys\n",
    "\n",
    "import groupmeme\n",
    "import groupmeme.api as api\n",
    "import groupmeme.group as group\n",
    "import json\n",
    "\n",
    "import pandas as pd\n",
    "import matplotlib.pyplot as plt\n",
    "%matplotlib inline  \n"
   ]
  },
  {
   "cell_type": "code",
   "execution_count": null,
   "metadata": {
    "collapsed": false
   },
   "outputs": [
    {
     "name": "stdout",
     "output_type": "stream",
     "text": [
      "[u'CS 70 boyz', u'Fundraising', u\"Bowles ExComm SPR '14\", u'Interviews', u'SEP Actives', u'2129 Channing', u'Benatia', u'CS Job Recruiting', u'SEP ETA CLASS', u'ETA dudes retreat car']\n"
     ]
    },
    {
     "data": {
      "text/plain": [
       "Group(group_id=10072893)"
      ]
     },
     "execution_count": 2,
     "metadata": {},
     "output_type": "execute_result"
    }
   ],
   "source": [
    "CLIENT = api.GroupmeClient()\n",
    "groups = CLIENT.get_groups()\n",
    "print groups.keys()\n",
    "sep_dict = groups[\"SEP ETA CLASS\"]\n",
    "sep = group.Group(sep_dict[\"id\"])\n",
    "sep"
   ]
  },
  {
   "cell_type": "code",
   "execution_count": null,
   "metadata": {
    "collapsed": false
   },
   "outputs": [],
   "source": [
    "sep.collect_messages()\n",
    "sep.handle_messages()"
   ]
  },
  {
   "cell_type": "code",
   "execution_count": null,
   "metadata": {
    "collapsed": true
   },
   "outputs": [],
   "source": [
    "def convert_to_name(df, labels, id_to_name):\n",
    "    for label in labels:\n",
    "        df[label] = df[label].map(id_to_name)\n",
    "    return df"
   ]
  },
  {
   "cell_type": "code",
   "execution_count": null,
   "metadata": {
    "collapsed": false
   },
   "outputs": [],
   "source": [
    "id_to_name = sep.id_to_name\n",
    "messages = convert_to_name(sep.messages, [\"sender_id\"], id_to_name)\n",
    "likes = convert_to_name(sep.likes, [\"liker_id\", \"receiver_id\"], id_to_name)\n"
   ]
  },
  {
   "cell_type": "code",
   "execution_count": null,
   "metadata": {
    "collapsed": false
   },
   "outputs": [],
   "source": [
    "messages.groupby(\"sender_id\").size().sort_values(ascending=False).plot(kind=\"bar\", figsize=(15,15))"
   ]
  },
  {
   "cell_type": "code",
   "execution_count": null,
   "metadata": {
    "collapsed": false
   },
   "outputs": [],
   "source": [
    "likes.groupby(\"liker_id\").size().sort_values(ascending=False).plot(kind=\"bar\", figsize=(15,15))"
   ]
  },
  {
   "cell_type": "code",
   "execution_count": null,
   "metadata": {
    "collapsed": false
   },
   "outputs": [],
   "source": [
    "likes.groupby(\"receiver_id\").size().sort_values(ascending=False).plot(kind=\"bar\", figsize=(15,15))"
   ]
  },
  {
   "cell_type": "code",
   "execution_count": null,
   "metadata": {
    "collapsed": true
   },
   "outputs": [],
   "source": []
  }
 ],
 "metadata": {
  "kernelspec": {
   "display_name": "Python 2",
   "language": "python",
   "name": "python2"
  },
  "language_info": {
   "codemirror_mode": {
    "name": "ipython",
    "version": 2
   },
   "file_extension": ".py",
   "mimetype": "text/x-python",
   "name": "python",
   "nbconvert_exporter": "python",
   "pygments_lexer": "ipython2",
   "version": "2.7.10"
  }
 },
 "nbformat": 4,
 "nbformat_minor": 0
}
