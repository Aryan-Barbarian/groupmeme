{
 "cells": [
  {
   "cell_type": "code",
   "execution_count": 4,
   "metadata": {
    "collapsed": false
   },
   "outputs": [
    {
     "name": "stdout",
     "output_type": "stream",
     "text": [
      "['', '/home/aryan/anaconda2/lib/python27.zip', '/home/aryan/anaconda2/lib/python2.7', '/home/aryan/anaconda2/lib/python2.7/plat-linux2', '/home/aryan/anaconda2/lib/python2.7/lib-tk', '/home/aryan/anaconda2/lib/python2.7/lib-old', '/home/aryan/anaconda2/lib/python2.7/lib-dynload', '/home/aryan/anaconda2/lib/python2.7/site-packages/Sphinx-1.3.1-py2.7.egg', '/home/aryan/anaconda2/lib/python2.7/site-packages/setuptools-18.4-py2.7.egg', '/home/aryan/anaconda2/lib/python2.7/site-packages', '/home/aryan/anaconda2/lib/python2.7/site-packages/cryptography-1.0.2-py2.7-linux-x86_64.egg', '/home/aryan/anaconda2/lib/python2.7/site-packages/IPython/extensions', '/home/aryan/.ipython']\n"
     ]
    },
    {
     "ename": "ImportError",
     "evalue": "No module named api",
     "output_type": "error",
     "traceback": [
      "\u001b[1;31m---------------------------------------------------------------------------\u001b[0m",
      "\u001b[1;31mImportError\u001b[0m                               Traceback (most recent call last)",
      "\u001b[1;32m<ipython-input-4-fe88bfc12b4e>\u001b[0m in \u001b[0;36m<module>\u001b[1;34m()\u001b[0m\n\u001b[0;32m      1\u001b[0m \u001b[1;32mimport\u001b[0m \u001b[0msys\u001b[0m\u001b[1;33m\u001b[0m\u001b[0m\n\u001b[0;32m      2\u001b[0m \u001b[1;32mprint\u001b[0m \u001b[0msys\u001b[0m\u001b[1;33m.\u001b[0m\u001b[0mpath\u001b[0m\u001b[1;33m\u001b[0m\u001b[0m\n\u001b[1;32m----> 3\u001b[1;33m \u001b[1;32mimport\u001b[0m \u001b[0mapi\u001b[0m\u001b[1;33m\u001b[0m\u001b[0m\n\u001b[0m\u001b[0;32m      4\u001b[0m \u001b[1;32mimport\u001b[0m \u001b[0mgroup\u001b[0m\u001b[1;33m\u001b[0m\u001b[0m\n\u001b[0;32m      5\u001b[0m \u001b[1;32mimport\u001b[0m \u001b[0mjson\u001b[0m\u001b[1;33m\u001b[0m\u001b[0m\n",
      "\u001b[1;31mImportError\u001b[0m: No module named api"
     ]
    }
   ],
   "source": [
    "import sys\n",
    "print sys.path\n",
    "import api\n",
    "import group\n",
    "import json\n",
    "\n",
    "import pandas as pd\n",
    "import matplotlib.pyplot as plt\n",
    "%matplotlib inline  \n"
   ]
  },
  {
   "cell_type": "code",
   "execution_count": null,
   "metadata": {
    "collapsed": false
   },
   "outputs": [],
   "source": [
    "CLIENT = api.GroupmeClient()"
   ]
  },
  {
   "cell_type": "code",
   "execution_count": null,
   "metadata": {
    "collapsed": true
   },
   "outputs": [],
   "source": [
    "groups = CLIENT.get_groups()[\"response\"]"
   ]
  },
  {
   "cell_type": "code",
   "execution_count": null,
   "metadata": {
    "collapsed": false
   },
   "outputs": [],
   "source": [
    "sep_dict = None\n",
    "for g in groups:\n",
    "    if g[\"name\"] == \"SEP Actives\":\n",
    "        sep_dict = g"
   ]
  },
  {
   "cell_type": "code",
   "execution_count": null,
   "metadata": {
    "collapsed": false
   },
   "outputs": [],
   "source": [
    "sep = group.Group(sep_dict[\"id\"])\n",
    "sep"
   ]
  },
  {
   "cell_type": "code",
   "execution_count": null,
   "metadata": {
    "collapsed": false
   },
   "outputs": [],
   "source": [
    "# messages = CLIENT.get_all_group_messages(sep_dict[\"id\"])\n",
    "with open(\"hello.json\",\"r\") as fp:\n",
    "    messages = json.load(fp)"
   ]
  },
  {
   "cell_type": "code",
   "execution_count": null,
   "metadata": {
    "collapsed": false
   },
   "outputs": [],
   "source": [
    "len(messages)"
   ]
  },
  {
   "cell_type": "code",
   "execution_count": null,
   "metadata": {
    "collapsed": false
   },
   "outputs": [],
   "source": [
    "# with open(\"hello.json\", \"w\") as fp:\n",
    "#     json.dump(messages, fp, indent=4)"
   ]
  },
  {
   "cell_type": "code",
   "execution_count": null,
   "metadata": {
    "collapsed": false
   },
   "outputs": [],
   "source": [
    "id_to_name = dict()\n",
    "likes_given = dict()\n",
    "likes_received = dict()\n",
    "messages_posted = dict()\n",
    "\n",
    "for message in messages:\n",
    "    likes = message[\"favorited_by\"]\n",
    "    poster = message[\"sender_id\"]\n",
    "    poster_name = message[\"name\"]\n",
    "    if poster not in id_to_name:\n",
    "        id_to_name[poster] = poster_name\n",
    "    if poster not in messages_posted:\n",
    "        messages_posted[poster] = 0\n",
    "    messages_posted[poster] += 1\n",
    "    \n",
    "    for like in likes:\n",
    "        if poster not in likes_received:\n",
    "            likes_received[poster] = 0\n",
    "        if like not in likes_given:\n",
    "            likes_given[like] = 0\n",
    "        likes_received[poster] += 1\n",
    "        likes_given[like] += 1\n",
    "\n",
    "likes_given = {id_to_name[name] : val for name,val in likes_given.items() if name in id_to_name}\n",
    "likes_received = {id_to_name[name] : val for name,val in likes_received.items() if name in id_to_name}\n",
    "messages_posted = {id_to_name[name] : val for name,val in messages_posted.items() if name in id_to_name}\n",
    "\n",
    "received_to_given = {name : received*1.0/likes_given[name] for name,received in likes_received.items() if name in likes_given}\n",
    "likes_per_message = {name : received*1.0/messages_posted[name] for name,received in likes_received.items() if name in messages_posted}"
   ]
  },
  {
   "cell_type": "code",
   "execution_count": null,
   "metadata": {
    "collapsed": false
   },
   "outputs": [],
   "source": [
    "def graph_dict(curr_dict):\n",
    "    names = curr_dict.keys()\n",
    "    names = sorted(names, key=lambda name:-curr_dict[name])\n",
    "    names = names[:]\n",
    "    vals = [curr_dict[key] for key in names]\n",
    "\n",
    "    df = pd.DataFrame({\"names\" : names, \"vals\" : vals})\n",
    "    df.plot(kind=\"bar\", x=\"names\", y=\"vals\", figsize=(15,15))"
   ]
  },
  {
   "cell_type": "code",
   "execution_count": null,
   "metadata": {
    "collapsed": false
   },
   "outputs": [],
   "source": [
    "graph_dict(likes_per_message)"
   ]
  },
  {
   "cell_type": "code",
   "execution_count": null,
   "metadata": {
    "collapsed": false
   },
   "outputs": [],
   "source": []
  },
  {
   "cell_type": "code",
   "execution_count": null,
   "metadata": {
    "collapsed": false
   },
   "outputs": [],
   "source": []
  }
 ],
 "metadata": {
  "kernelspec": {
   "display_name": "Python 2",
   "language": "python",
   "name": "python2"
  },
  "language_info": {
   "codemirror_mode": {
    "name": "ipython",
    "version": 2
   },
   "file_extension": ".py",
   "mimetype": "text/x-python",
   "name": "python",
   "nbconvert_exporter": "python",
   "pygments_lexer": "ipython2",
   "version": "2.7.10"
  }
 },
 "nbformat": 4,
 "nbformat_minor": 0
}
