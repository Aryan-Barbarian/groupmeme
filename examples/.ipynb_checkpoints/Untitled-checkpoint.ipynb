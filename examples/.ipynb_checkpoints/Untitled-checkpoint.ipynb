{
 "cells": [
  {
   "cell_type": "code",
   "execution_count": 1,
   "metadata": {
    "collapsed": true
   },
   "outputs": [],
   "source": [
    "import sys\n",
    "sys.path\n",
    "import api\n",
    "import group\n",
    "import json\n",
    "\n",
    "import pandas as pd\n",
    "import matplotlib.pyplot as plt\n",
    "%matplotlib inline  \n"
   ]
  },
  {
   "cell_type": "code",
   "execution_count": 2,
   "metadata": {
    "collapsed": false
   },
   "outputs": [
    {
     "data": {
      "text/plain": [
       "<group.Group at 0x7f5d501a0750>"
      ]
     },
     "execution_count": 2,
     "metadata": {},
     "output_type": "execute_result"
    }
   ],
   "source": [
    "CLIENT = api.GroupmeClient()\n",
    "groups = CLIENT.get_groups()[\"response\"]\n",
    "sep_dict = None\n",
    "for g in groups:\n",
    "    if g[\"name\"] == \"SEP Actives\":\n",
    "        sep_dict = g\n",
    "sep = group.Group(sep_dict[\"id\"])\n",
    "sep"
   ]
  },
  {
   "cell_type": "code",
   "execution_count": 28,
   "metadata": {
    "collapsed": false
   },
   "outputs": [],
   "source": [
    "sep.collect_messages()\n",
    "sep.handle_messages()"
   ]
  },
  {
   "cell_type": "code",
   "execution_count": null,
   "metadata": {
    "collapsed": true
   },
   "outputs": [],
   "source": [
    "def convert_to_name(df, labels):\n",
    "    def handle_row(row):\n",
    "        "
   ]
  },
  {
   "cell_type": "code",
   "execution_count": 24,
   "metadata": {
    "collapsed": false
   },
   "outputs": [
    {
     "data": {
      "text/html": [
       "<div>\n",
       "<table border=\"1\" class=\"dataframe\">\n",
       "  <thead>\n",
       "    <tr style=\"text-align: right;\">\n",
       "      <th></th>\n",
       "      <th>liker_id</th>\n",
       "      <th>receiver_id</th>\n",
       "    </tr>\n",
       "  </thead>\n",
       "  <tbody>\n",
       "    <tr>\n",
       "      <th>0</th>\n",
       "      <td>9104919</td>\n",
       "      <td>15309828</td>\n",
       "    </tr>\n",
       "    <tr>\n",
       "      <th>1</th>\n",
       "      <td>8624399</td>\n",
       "      <td>14227207</td>\n",
       "    </tr>\n",
       "    <tr>\n",
       "      <th>2</th>\n",
       "      <td>8624399</td>\n",
       "      <td>14227207</td>\n",
       "    </tr>\n",
       "    <tr>\n",
       "      <th>3</th>\n",
       "      <td>8624399</td>\n",
       "      <td>14227207</td>\n",
       "    </tr>\n",
       "    <tr>\n",
       "      <th>4</th>\n",
       "      <td>13178582</td>\n",
       "      <td>17207526</td>\n",
       "    </tr>\n",
       "    <tr>\n",
       "      <th>5</th>\n",
       "      <td>13262672</td>\n",
       "      <td>17207526</td>\n",
       "    </tr>\n",
       "    <tr>\n",
       "      <th>6</th>\n",
       "      <td>16803922</td>\n",
       "      <td>17207526</td>\n",
       "    </tr>\n",
       "    <tr>\n",
       "      <th>7</th>\n",
       "      <td>21549005</td>\n",
       "      <td>17207526</td>\n",
       "    </tr>\n",
       "    <tr>\n",
       "      <th>8</th>\n",
       "      <td>8544745</td>\n",
       "      <td>17207526</td>\n",
       "    </tr>\n",
       "    <tr>\n",
       "      <th>9</th>\n",
       "      <td>8624399</td>\n",
       "      <td>17207526</td>\n",
       "    </tr>\n",
       "    <tr>\n",
       "      <th>10</th>\n",
       "      <td>14008118</td>\n",
       "      <td>17207526</td>\n",
       "    </tr>\n",
       "    <tr>\n",
       "      <th>11</th>\n",
       "      <td>16803922</td>\n",
       "      <td>17207526</td>\n",
       "    </tr>\n",
       "    <tr>\n",
       "      <th>12</th>\n",
       "      <td>13178582</td>\n",
       "      <td>17207526</td>\n",
       "    </tr>\n",
       "    <tr>\n",
       "      <th>13</th>\n",
       "      <td>13520386</td>\n",
       "      <td>9104919</td>\n",
       "    </tr>\n",
       "    <tr>\n",
       "      <th>14</th>\n",
       "      <td>14227207</td>\n",
       "      <td>9104919</td>\n",
       "    </tr>\n",
       "    <tr>\n",
       "      <th>15</th>\n",
       "      <td>16803922</td>\n",
       "      <td>9104919</td>\n",
       "    </tr>\n",
       "    <tr>\n",
       "      <th>16</th>\n",
       "      <td>17207526</td>\n",
       "      <td>9104919</td>\n",
       "    </tr>\n",
       "    <tr>\n",
       "      <th>17</th>\n",
       "      <td>18361176</td>\n",
       "      <td>9104919</td>\n",
       "    </tr>\n",
       "    <tr>\n",
       "      <th>18</th>\n",
       "      <td>21549005</td>\n",
       "      <td>9104919</td>\n",
       "    </tr>\n",
       "    <tr>\n",
       "      <th>19</th>\n",
       "      <td>24754315</td>\n",
       "      <td>9104919</td>\n",
       "    </tr>\n",
       "    <tr>\n",
       "      <th>20</th>\n",
       "      <td>13520386</td>\n",
       "      <td>9104919</td>\n",
       "    </tr>\n",
       "    <tr>\n",
       "      <th>21</th>\n",
       "      <td>16320680</td>\n",
       "      <td>9104919</td>\n",
       "    </tr>\n",
       "    <tr>\n",
       "      <th>22</th>\n",
       "      <td>17207526</td>\n",
       "      <td>9104919</td>\n",
       "    </tr>\n",
       "    <tr>\n",
       "      <th>23</th>\n",
       "      <td>18361176</td>\n",
       "      <td>9104919</td>\n",
       "    </tr>\n",
       "    <tr>\n",
       "      <th>24</th>\n",
       "      <td>21549005</td>\n",
       "      <td>9104919</td>\n",
       "    </tr>\n",
       "    <tr>\n",
       "      <th>25</th>\n",
       "      <td>6824578</td>\n",
       "      <td>9104919</td>\n",
       "    </tr>\n",
       "    <tr>\n",
       "      <th>26</th>\n",
       "      <td>14184950</td>\n",
       "      <td>19906283</td>\n",
       "    </tr>\n",
       "    <tr>\n",
       "      <th>27</th>\n",
       "      <td>16320680</td>\n",
       "      <td>19906283</td>\n",
       "    </tr>\n",
       "    <tr>\n",
       "      <th>28</th>\n",
       "      <td>17207526</td>\n",
       "      <td>19906283</td>\n",
       "    </tr>\n",
       "    <tr>\n",
       "      <th>29</th>\n",
       "      <td>6824572</td>\n",
       "      <td>19906283</td>\n",
       "    </tr>\n",
       "    <tr>\n",
       "      <th>...</th>\n",
       "      <td>...</td>\n",
       "      <td>...</td>\n",
       "    </tr>\n",
       "    <tr>\n",
       "      <th>51067</th>\n",
       "      <td>2736709</td>\n",
       "      <td>6824576</td>\n",
       "    </tr>\n",
       "    <tr>\n",
       "      <th>51068</th>\n",
       "      <td>6824572</td>\n",
       "      <td>6824576</td>\n",
       "    </tr>\n",
       "    <tr>\n",
       "      <th>51069</th>\n",
       "      <td>3464244</td>\n",
       "      <td>2736709</td>\n",
       "    </tr>\n",
       "    <tr>\n",
       "      <th>51070</th>\n",
       "      <td>6546158</td>\n",
       "      <td>2736709</td>\n",
       "    </tr>\n",
       "    <tr>\n",
       "      <th>51071</th>\n",
       "      <td>10362515</td>\n",
       "      <td>14184950</td>\n",
       "    </tr>\n",
       "    <tr>\n",
       "      <th>51072</th>\n",
       "      <td>14008118</td>\n",
       "      <td>14184950</td>\n",
       "    </tr>\n",
       "    <tr>\n",
       "      <th>51073</th>\n",
       "      <td>15825134</td>\n",
       "      <td>14184950</td>\n",
       "    </tr>\n",
       "    <tr>\n",
       "      <th>51074</th>\n",
       "      <td>2736709</td>\n",
       "      <td>14184950</td>\n",
       "    </tr>\n",
       "    <tr>\n",
       "      <th>51075</th>\n",
       "      <td>3989046</td>\n",
       "      <td>14184950</td>\n",
       "    </tr>\n",
       "    <tr>\n",
       "      <th>51076</th>\n",
       "      <td>4057342</td>\n",
       "      <td>14184950</td>\n",
       "    </tr>\n",
       "    <tr>\n",
       "      <th>51077</th>\n",
       "      <td>6601523</td>\n",
       "      <td>14184950</td>\n",
       "    </tr>\n",
       "    <tr>\n",
       "      <th>51078</th>\n",
       "      <td>6732058</td>\n",
       "      <td>14184950</td>\n",
       "    </tr>\n",
       "    <tr>\n",
       "      <th>51079</th>\n",
       "      <td>6824572</td>\n",
       "      <td>14184950</td>\n",
       "    </tr>\n",
       "    <tr>\n",
       "      <th>51080</th>\n",
       "      <td>6824574</td>\n",
       "      <td>14184950</td>\n",
       "    </tr>\n",
       "    <tr>\n",
       "      <th>51081</th>\n",
       "      <td>6824577</td>\n",
       "      <td>14184950</td>\n",
       "    </tr>\n",
       "    <tr>\n",
       "      <th>51082</th>\n",
       "      <td>8129754</td>\n",
       "      <td>14184950</td>\n",
       "    </tr>\n",
       "    <tr>\n",
       "      <th>51083</th>\n",
       "      <td>9375602</td>\n",
       "      <td>14184950</td>\n",
       "    </tr>\n",
       "    <tr>\n",
       "      <th>51084</th>\n",
       "      <td>2736709</td>\n",
       "      <td>6824572</td>\n",
       "    </tr>\n",
       "    <tr>\n",
       "      <th>51085</th>\n",
       "      <td>3464244</td>\n",
       "      <td>6824572</td>\n",
       "    </tr>\n",
       "    <tr>\n",
       "      <th>51086</th>\n",
       "      <td>3464244</td>\n",
       "      <td>2736709</td>\n",
       "    </tr>\n",
       "    <tr>\n",
       "      <th>51087</th>\n",
       "      <td>6601523</td>\n",
       "      <td>2736709</td>\n",
       "    </tr>\n",
       "    <tr>\n",
       "      <th>51088</th>\n",
       "      <td>16861914</td>\n",
       "      <td>6824572</td>\n",
       "    </tr>\n",
       "    <tr>\n",
       "      <th>51089</th>\n",
       "      <td>4057342</td>\n",
       "      <td>6824572</td>\n",
       "    </tr>\n",
       "    <tr>\n",
       "      <th>51090</th>\n",
       "      <td>6601523</td>\n",
       "      <td>6824572</td>\n",
       "    </tr>\n",
       "    <tr>\n",
       "      <th>51091</th>\n",
       "      <td>8129754</td>\n",
       "      <td>14184950</td>\n",
       "    </tr>\n",
       "    <tr>\n",
       "      <th>51092</th>\n",
       "      <td>14008118</td>\n",
       "      <td>6824577</td>\n",
       "    </tr>\n",
       "    <tr>\n",
       "      <th>51093</th>\n",
       "      <td>16861914</td>\n",
       "      <td>6824577</td>\n",
       "    </tr>\n",
       "    <tr>\n",
       "      <th>51094</th>\n",
       "      <td>6732058</td>\n",
       "      <td>6824577</td>\n",
       "    </tr>\n",
       "    <tr>\n",
       "      <th>51095</th>\n",
       "      <td>8544745</td>\n",
       "      <td>6824577</td>\n",
       "    </tr>\n",
       "    <tr>\n",
       "      <th>51096</th>\n",
       "      <td>9375601</td>\n",
       "      <td>9375598</td>\n",
       "    </tr>\n",
       "  </tbody>\n",
       "</table>\n",
       "<p>51097 rows × 2 columns</p>\n",
       "</div>"
      ],
      "text/plain": [
       "       liker_id receiver_id\n",
       "0       9104919    15309828\n",
       "1       8624399    14227207\n",
       "2       8624399    14227207\n",
       "3       8624399    14227207\n",
       "4      13178582    17207526\n",
       "5      13262672    17207526\n",
       "6      16803922    17207526\n",
       "7      21549005    17207526\n",
       "8       8544745    17207526\n",
       "9       8624399    17207526\n",
       "10     14008118    17207526\n",
       "11     16803922    17207526\n",
       "12     13178582    17207526\n",
       "13     13520386     9104919\n",
       "14     14227207     9104919\n",
       "15     16803922     9104919\n",
       "16     17207526     9104919\n",
       "17     18361176     9104919\n",
       "18     21549005     9104919\n",
       "19     24754315     9104919\n",
       "20     13520386     9104919\n",
       "21     16320680     9104919\n",
       "22     17207526     9104919\n",
       "23     18361176     9104919\n",
       "24     21549005     9104919\n",
       "25      6824578     9104919\n",
       "26     14184950    19906283\n",
       "27     16320680    19906283\n",
       "28     17207526    19906283\n",
       "29      6824572    19906283\n",
       "...         ...         ...\n",
       "51067   2736709     6824576\n",
       "51068   6824572     6824576\n",
       "51069   3464244     2736709\n",
       "51070   6546158     2736709\n",
       "51071  10362515    14184950\n",
       "51072  14008118    14184950\n",
       "51073  15825134    14184950\n",
       "51074   2736709    14184950\n",
       "51075   3989046    14184950\n",
       "51076   4057342    14184950\n",
       "51077   6601523    14184950\n",
       "51078   6732058    14184950\n",
       "51079   6824572    14184950\n",
       "51080   6824574    14184950\n",
       "51081   6824577    14184950\n",
       "51082   8129754    14184950\n",
       "51083   9375602    14184950\n",
       "51084   2736709     6824572\n",
       "51085   3464244     6824572\n",
       "51086   3464244     2736709\n",
       "51087   6601523     2736709\n",
       "51088  16861914     6824572\n",
       "51089   4057342     6824572\n",
       "51090   6601523     6824572\n",
       "51091   8129754    14184950\n",
       "51092  14008118     6824577\n",
       "51093  16861914     6824577\n",
       "51094   6732058     6824577\n",
       "51095   8544745     6824577\n",
       "51096   9375601     9375598\n",
       "\n",
       "[51097 rows x 2 columns]"
      ]
     },
     "execution_count": 24,
     "metadata": {},
     "output_type": "execute_result"
    }
   ],
   "source": [
    "messages = sep.messages\n",
    "likes = sep.likes\n"
   ]
  },
  {
   "cell_type": "code",
   "execution_count": 23,
   "metadata": {
    "collapsed": false
   },
   "outputs": [
    {
     "data": {
      "text/plain": [
       "<matplotlib.axes._subplots.AxesSubplot at 0x7f5d1abbf950>"
      ]
     },
     "execution_count": 23,
     "metadata": {},
     "output_type": "execute_result"
    },
    {
     "data": {
      "image/png": "[encoded data removed]",
      "text/plain": [
       "<matplotlib.figure.Figure at 0x7f5d23532a90>"
      ]
     },
     "metadata": {},
     "output_type": "display_data"
    }
   ],
   "source": [
    "messages.groupby(\"sender_id\").size().sort_values(ascending=False).plot(kind=\"bar\", figsize=(15,15))"
   ]
  },
  {
   "cell_type": "code",
   "execution_count": 26,
   "metadata": {
    "collapsed": false
   },
   "outputs": [
    {
     "data": {
      "text/plain": [
       "<matplotlib.axes._subplots.AxesSubplot at 0x7f5d1a5048d0>"
      ]
     },
     "execution_count": 26,
     "metadata": {},
     "output_type": "execute_result"
    },
    {
     "data": {
      "image/png": "[encoded data removed]",
      "text/plain": [
       "<matplotlib.figure.Figure at 0x7f5d1a6f0c10>"
      ]
     },
     "metadata": {},
     "output_type": "display_data"
    }
   ],
   "source": [
    "likes.groupby(\"liker_id\").size().sort_values(ascending=False).plot(kind=\"bar\", figsize=(15,15))"
   ]
  },
  {
   "cell_type": "code",
   "execution_count": 27,
   "metadata": {
    "collapsed": false
   },
   "outputs": [
    {
     "data": {
      "text/plain": [
       "<matplotlib.axes._subplots.AxesSubplot at 0x7f5d1a4204d0>"
      ]
     },
     "execution_count": 27,
     "metadata": {},
     "output_type": "execute_result"
    },
    {
     "data": {
      "image/png": "[encoded data removed]",
      "text/plain": [
       "<matplotlib.figure.Figure at 0x7f5d1a49fd50>"
      ]
     },
     "metadata": {},
     "output_type": "display_data"
    }
   ],
   "source": [
    "likes.groupby(\"receiver_id\").size().sort_values(ascending=False).plot(kind=\"bar\", figsize=(15,15))"
   ]
  }
 ],
 "metadata": {
  "kernelspec": {
   "display_name": "Python 2",
   "language": "python",
   "name": "python2"
  },
  "language_info": {
   "codemirror_mode": {
    "name": "ipython",
    "version": 2
   },
   "file_extension": ".py",
   "mimetype": "text/x-python",
   "name": "python",
   "nbconvert_exporter": "python",
   "pygments_lexer": "ipython2",
   "version": "2.7.10"
  }
 },
 "nbformat": 4,
 "nbformat_minor": 0
}
