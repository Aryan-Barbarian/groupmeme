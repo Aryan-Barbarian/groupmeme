{
 "cells": [
  {
   "cell_type": "code",
   "execution_count": 117,
   "metadata": {
    "collapsed": false
   },
   "outputs": [],
   "source": [
    "import sys\n",
    "sys.path\n",
    "import api\n",
    "import group\n",
    "import json\n",
    "\n",
    "import pandas as pd\n",
    "import matplotlib.pyplot as plt\n",
    "%matplotlib inline  \n"
   ]
  },
  {
   "cell_type": "code",
   "execution_count": 118,
   "metadata": {
    "collapsed": false
   },
   "outputs": [],
   "source": [
    "CLIENT = api.GroupmeClient()"
   ]
  },
  {
   "cell_type": "code",
   "execution_count": 119,
   "metadata": {
    "collapsed": true
   },
   "outputs": [],
   "source": [
    "groups = CLIENT.get_groups()[\"response\"]"
   ]
  },
  {
   "cell_type": "code",
   "execution_count": 120,
   "metadata": {
    "collapsed": false
   },
   "outputs": [],
   "source": [
    "sep_dict = None\n",
    "for g in groups:\n",
    "    if g[\"name\"] == \"SEP Actives\":\n",
    "        sep_dict = g"
   ]
  },
  {
   "cell_type": "code",
   "execution_count": 121,
   "metadata": {
    "collapsed": false
   },
   "outputs": [
    {
     "data": {
      "text/plain": [
       "<group.Group at 0x7f2d15d077d0>"
      ]
     },
     "execution_count": 121,
     "metadata": {},
     "output_type": "execute_result"
    }
   ],
   "source": [
    "sep = group.Group(sep_dict[\"id\"])\n",
    "sep"
   ]
  },
  {
   "cell_type": "code",
   "execution_count": 122,
   "metadata": {
    "collapsed": false
   },
   "outputs": [],
   "source": [
    "# messages = CLIENT.get_all_group_messages(sep_dict[\"id\"])\n",
    "with open(\"hello.json\",\"r\") as fp:\n",
    "    messages = json.load(fp)"
   ]
  },
  {
   "cell_type": "code",
   "execution_count": 123,
   "metadata": {
    "collapsed": false
   },
   "outputs": [
    {
     "data": {
      "text/plain": [
       "23716"
      ]
     },
     "execution_count": 123,
     "metadata": {},
     "output_type": "execute_result"
    }
   ],
   "source": [
    "len(messages)"
   ]
  },
  {
   "cell_type": "code",
   "execution_count": 124,
   "metadata": {
    "collapsed": false
   },
   "outputs": [],
   "source": [
    "# with open(\"hello.json\", \"w\") as fp:\n",
    "#     json.dump(messages, fp, indent=4)"
   ]
  },
  {
   "cell_type": "code",
   "execution_count": 125,
   "metadata": {
    "collapsed": false
   },
   "outputs": [],
   "source": [
    "id_to_name = dict()\n",
    "likes_given = dict()\n",
    "likes_received = dict()\n",
    "messages_posted = dict()\n",
    "\n",
    "for message in messages:\n",
    "    likes = message[\"favorited_by\"]\n",
    "    poster = message[\"sender_id\"]\n",
    "    poster_name = message[\"name\"]\n",
    "    if poster not in id_to_name:\n",
    "        id_to_name[poster] = poster_name\n",
    "    if poster not in messages_posted:\n",
    "        messages_posted[poster] = 0\n",
    "    messages_posted[poster] += 1\n",
    "    \n",
    "    for like in likes:\n",
    "        if poster not in likes_received:\n",
    "            likes_received[poster] = 0\n",
    "        if like not in likes_given:\n",
    "            likes_given[like] = 0\n",
    "        likes_received[poster] += 1\n",
    "        likes_given[like] += 1\n",
    "\n",
    "likes_given = {id_to_name[name] : val for name,val in likes_given.items() if name in id_to_name}\n",
    "likes_received = {id_to_name[name] : val for name,val in likes_received.items() if name in id_to_name}\n",
    "messages_posted = {id_to_name[name] : val for name,val in messages_posted.items() if name in id_to_name}\n",
    "\n",
    "received_to_given = {name : received*1.0/likes_given[name] for name,received in likes_received.items() if name in likes_given}\n",
    "likes_per_message = {name : received*1.0/messages_posted[name] for name,received in likes_received.items() if name in messages_posted}"
   ]
  },
  {
   "cell_type": "code",
   "execution_count": 126,
   "metadata": {
    "collapsed": false
   },
   "outputs": [],
   "source": [
    "def graph_dict(curr_dict):\n",
    "    names = curr_dict.keys()\n",
    "    names = sorted(names, key=lambda name:-curr_dict[name])\n",
    "    names = names[:20]\n",
    "    vals = [curr_dict[key] for key in names]\n",
    "\n",
    "    df = pd.DataFrame({\"names\" : names, \"vals\" : vals})\n",
    "    df.plot(kind=\"bar\", x=\"names\", y=\"vals\", figsize=(10,10))"
   ]
  },
  {
   "cell_type": "code",
   "execution_count": 127,
   "metadata": {
    "collapsed": false
   },
   "outputs": [
    {
     "data": {
      "image/png": "[encoded data removed]",
      "text/plain": [
       "<matplotlib.figure.Figure at 0x7f2d15c7f250>"
      ]
     },
     "metadata": {},
     "output_type": "display_data"
    }
   ],
   "source": [
    "graph_dict(likes_per_message)"
   ]
  },
  {
   "cell_type": "code",
   "execution_count": null,
   "metadata": {
    "collapsed": false
   },
   "outputs": [],
   "source": []
  },
  {
   "cell_type": "code",
   "execution_count": null,
   "metadata": {
    "collapsed": false
   },
   "outputs": [],
   "source": []
  }
 ],
 "metadata": {
  "kernelspec": {
   "display_name": "Python 2",
   "language": "python",
   "name": "python2"
  },
  "language_info": {
   "codemirror_mode": {
    "name": "ipython",
    "version": 2
   },
   "file_extension": ".py",
   "mimetype": "text/x-python",
   "name": "python",
   "nbconvert_exporter": "python",
   "pygments_lexer": "ipython2",
   "version": "2.7.10"
  }
 },
 "nbformat": 4,
 "nbformat_minor": 0
}
