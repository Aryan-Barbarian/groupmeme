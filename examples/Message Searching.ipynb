{
 "cells": [
  {
   "cell_type": "code",
   "execution_count": 1,
   "metadata": {
    "collapsed": true
   },
   "outputs": [],
   "source": [
    "import sys\n",
    "\n",
    "import groupmeme\n",
    "import groupmeme.api as api\n",
    "import groupmeme.group as group\n",
    "import json\n",
    "\n",
    "import pandas as pd\n",
    "import numpy as np\n",
    "import cufflinks as cf\n",
    "\n",
    "import matplotlib.pyplot as plt\n",
    "import matplotlib\n",
    "matplotlib.style.use('ggplot')\n",
    "%matplotlib inline  \n"
   ]
  },
  {
   "cell_type": "code",
   "execution_count": 2,
   "metadata": {
    "collapsed": false
   },
   "outputs": [],
   "source": [
    "CLIENT = api.GroupmeClient()\n",
    "groups = CLIENT.get_groups()\n",
    "\n",
    "selected_group = \"SEP ETA CLASS\" # Change this!!\n",
    "\n",
    "sep_dict = groups[selected_group]\n",
    "sep = group.Group(sep_dict[\"id\"])\n",
    "\n",
    "\n",
    "sep.collect_messages()\n",
    "sep.handle_messages()"
   ]
  },
  {
   "cell_type": "code",
   "execution_count": 40,
   "metadata": {
    "collapsed": true
   },
   "outputs": [],
   "source": [
    "messages = sep.messages\n",
    "def convert_to_name(df, labels, id_to_name):\n",
    "    for label in labels:\n",
    "        df[label] = df[label].map(id_to_name)\n",
    "    return df\n",
    "id_to_name = sep.id_to_name\n",
    "messages = convert_to_name(sep.messages, [\"sender_id\"], id_to_name)\n",
    "likes = convert_to_name(sep.likes, [\"liker_id\", \"receiver_id\"], id_to_name)"
   ]
  },
  {
   "cell_type": "code",
   "execution_count": 41,
   "metadata": {
    "collapsed": false
   },
   "outputs": [],
   "source": [
    "messages[\"created_at\"] = pd.to_datetime(messages[\"created_at\"], unit=\"s\")\n",
    "messages = messages.set_index(\"created_at\")\n",
    "start = pd.datetime(2014, 9, 1)\n",
    "end = pd.datetime(2014, 11, 22)\n",
    "\n",
    "del messages[\"message_id\"]\n",
    "messages = messages[ ((messages.index > start) & (messages.index < end))]\n",
    "with open(\"test.csv\", \"w\") as fp:\n",
    "    messages.to_csv(fp, encoding=\"utf8\")"
   ]
  }
 ],
 "metadata": {
  "kernelspec": {
   "display_name": "Python 2",
   "language": "python",
   "name": "python2"
  },
  "language_info": {
   "codemirror_mode": {
    "name": "ipython",
    "version": 2
   },
   "file_extension": ".py",
   "mimetype": "text/x-python",
   "name": "python",
   "nbconvert_exporter": "python",
   "pygments_lexer": "ipython2",
   "version": "2.7.10"
  }
 },
 "nbformat": 4,
 "nbformat_minor": 0
}
